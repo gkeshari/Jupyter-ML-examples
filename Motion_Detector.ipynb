{
 "cells": [
  {
   "cell_type": "code",
   "execution_count": 3,
   "metadata": {},
   "outputs": [],
   "source": [
    "import cv2,time,pandas\n",
    "\n",
    "first_frame = None\n",
    "video = cv2.VideoCapture(0)\n",
    "while True:\n",
    "    check,frame = video.read()\n",
    "    gray=cv2.cvtColor(frame,cv2.COLOR_BGR2GRAY)\n",
    "    gray=cv2.GaussianBlur(gray,(21,21),0)\n",
    "    \n",
    "    if first_frame is None:\n",
    "        first_frame=gray\n",
    "        continue\n",
    "\n",
    "    delta_frame = cv2.absdiff(first_frame,gray)\n",
    "    # cal. the diffrnc between first frame and other frames \n",
    "\n",
    "\n",
    "    thresh_delta = cv2.threshold(delta_frame, 30, 255, cv2.THRESH_BINARY)[1]\n",
    "    thresh_delta = cv2.dilate(thresh_delta,None,iterations=0)\n",
    "    # provides a threshold value, such that it will convert the diffrence value less than 30 to black. \n",
    "    # if the diffrnce is greater than 30it will convert those pixels to white\n",
    "\n",
    "\n",
    "\n",
    "    cnts,_ = cv2.findContours(thresh_delta.copy(),cv2.RETR_EXTERNAL,cv2.CHAIN_APPROX_SIMPLE)\n",
    "    # define the contour area. Basically, add the borders\n",
    "\n",
    "\n",
    "\n",
    "    for contour in cnts:\n",
    "        if cv2.contourArea(contour)<1000:\n",
    "            continue\n",
    "        x,y,w,h=cv2.boundingRect(contour)\n",
    "        cv2.rectangle(frame, (x,y), (x+w,y+h), (0,255,0),3)\n",
    "    \n",
    "\n",
    "    \n",
    "    cv2.imshow('Frame',frame)\n",
    "    cv2.imshow('Capturing',gray)\n",
    "    cv2.imshow('delta',delta_frame)\n",
    "    cv2.imshow('thresh',thresh_delta)\n",
    "\n",
    "    key = cv2.waitKey(1)\n",
    "    if key==ord('q'):\n",
    "        break\n",
    "video.release()\n",
    "cv2.destroyAllWindows()\n"
   ]
  },
  {
   "cell_type": "code",
   "execution_count": null,
   "metadata": {},
   "outputs": [],
   "source": []
  }
 ],
 "metadata": {
  "kernelspec": {
   "display_name": "Python 3",
   "language": "python",
   "name": "python3"
  },
  "language_info": {
   "codemirror_mode": {
    "name": "ipython",
    "version": 3
   },
   "file_extension": ".py",
   "mimetype": "text/x-python",
   "name": "python",
   "nbconvert_exporter": "python",
   "pygments_lexer": "ipython3",
   "version": "3.7.4"
  }
 },
 "nbformat": 4,
 "nbformat_minor": 2
}
